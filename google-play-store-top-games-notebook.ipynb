{
 "cells": [
  {
   "cell_type": "markdown",
   "id": "20b8c268",
   "metadata": {},
   "source": [
    "## Importing Tools and Data"
   ]
  },
  {
   "cell_type": "code",
   "execution_count": 39,
   "id": "af4ffc4a",
   "metadata": {},
   "outputs": [],
   "source": [
    "import numpy as np\n",
    "import pandas as pd\n",
    "from matplotlib import pyplot as plt\n",
    "%matplotlib inline\n",
    "import sklearn\n",
    "import seaborn as sns"
   ]
  },
  {
   "cell_type": "code",
   "execution_count": 4,
   "id": "916244fa",
   "metadata": {},
   "outputs": [
    {
     "data": {
      "text/html": [
       "<div>\n",
       "<style scoped>\n",
       "    .dataframe tbody tr th:only-of-type {\n",
       "        vertical-align: middle;\n",
       "    }\n",
       "\n",
       "    .dataframe tbody tr th {\n",
       "        vertical-align: top;\n",
       "    }\n",
       "\n",
       "    .dataframe thead th {\n",
       "        text-align: right;\n",
       "    }\n",
       "</style>\n",
       "<table border=\"1\" class=\"dataframe\">\n",
       "  <thead>\n",
       "    <tr style=\"text-align: right;\">\n",
       "      <th></th>\n",
       "      <th>rank</th>\n",
       "      <th>title</th>\n",
       "      <th>total ratings</th>\n",
       "      <th>installs</th>\n",
       "      <th>average rating</th>\n",
       "      <th>growth (30 days)</th>\n",
       "      <th>growth (60 days)</th>\n",
       "      <th>price</th>\n",
       "      <th>category</th>\n",
       "      <th>5 star ratings</th>\n",
       "      <th>4 star ratings</th>\n",
       "      <th>3 star ratings</th>\n",
       "      <th>2 star ratings</th>\n",
       "      <th>1 star ratings</th>\n",
       "      <th>paid</th>\n",
       "    </tr>\n",
       "  </thead>\n",
       "  <tbody>\n",
       "    <tr>\n",
       "      <th>0</th>\n",
       "      <td>1</td>\n",
       "      <td>Garena Free Fire - The Cobra</td>\n",
       "      <td>80678661</td>\n",
       "      <td>500.0 M</td>\n",
       "      <td>4.33</td>\n",
       "      <td>2.9</td>\n",
       "      <td>7.9</td>\n",
       "      <td>0.0</td>\n",
       "      <td>GAME ACTION</td>\n",
       "      <td>61935712</td>\n",
       "      <td>4478738</td>\n",
       "      <td>2795172</td>\n",
       "      <td>1814999</td>\n",
       "      <td>9654037</td>\n",
       "      <td>False</td>\n",
       "    </tr>\n",
       "    <tr>\n",
       "      <th>1</th>\n",
       "      <td>2</td>\n",
       "      <td>PUBG MOBILE: Graffiti Prank</td>\n",
       "      <td>35971961</td>\n",
       "      <td>100.0 M</td>\n",
       "      <td>4.24</td>\n",
       "      <td>2.0</td>\n",
       "      <td>3.1</td>\n",
       "      <td>0.0</td>\n",
       "      <td>GAME ACTION</td>\n",
       "      <td>26670566</td>\n",
       "      <td>2109631</td>\n",
       "      <td>1352610</td>\n",
       "      <td>893674</td>\n",
       "      <td>4945478</td>\n",
       "      <td>False</td>\n",
       "    </tr>\n",
       "    <tr>\n",
       "      <th>2</th>\n",
       "      <td>3</td>\n",
       "      <td>Mobile Legends: Bang Bang</td>\n",
       "      <td>25836869</td>\n",
       "      <td>100.0 M</td>\n",
       "      <td>4.08</td>\n",
       "      <td>1.6</td>\n",
       "      <td>3.3</td>\n",
       "      <td>0.0</td>\n",
       "      <td>GAME ACTION</td>\n",
       "      <td>17850942</td>\n",
       "      <td>1796761</td>\n",
       "      <td>1066095</td>\n",
       "      <td>725429</td>\n",
       "      <td>4397640</td>\n",
       "      <td>False</td>\n",
       "    </tr>\n",
       "    <tr>\n",
       "      <th>3</th>\n",
       "      <td>4</td>\n",
       "      <td>Brawl Stars</td>\n",
       "      <td>17181659</td>\n",
       "      <td>100.0 M</td>\n",
       "      <td>4.27</td>\n",
       "      <td>4.1</td>\n",
       "      <td>6.6</td>\n",
       "      <td>0.0</td>\n",
       "      <td>GAME ACTION</td>\n",
       "      <td>12493668</td>\n",
       "      <td>1474319</td>\n",
       "      <td>741410</td>\n",
       "      <td>383478</td>\n",
       "      <td>2088781</td>\n",
       "      <td>False</td>\n",
       "    </tr>\n",
       "    <tr>\n",
       "      <th>4</th>\n",
       "      <td>5</td>\n",
       "      <td>Sniper 3D: Fun Free Online FPS Shooting Game</td>\n",
       "      <td>14237554</td>\n",
       "      <td>100.0 M</td>\n",
       "      <td>4.33</td>\n",
       "      <td>0.8</td>\n",
       "      <td>1.8</td>\n",
       "      <td>0.0</td>\n",
       "      <td>GAME ACTION</td>\n",
       "      <td>9657878</td>\n",
       "      <td>2124544</td>\n",
       "      <td>1034025</td>\n",
       "      <td>375159</td>\n",
       "      <td>1045945</td>\n",
       "      <td>False</td>\n",
       "    </tr>\n",
       "  </tbody>\n",
       "</table>\n",
       "</div>"
      ],
      "text/plain": [
       "   rank                                         title  total ratings installs  \\\n",
       "0     1                  Garena Free Fire - The Cobra       80678661  500.0 M   \n",
       "1     2                   PUBG MOBILE: Graffiti Prank       35971961  100.0 M   \n",
       "2     3                     Mobile Legends: Bang Bang       25836869  100.0 M   \n",
       "3     4                                   Brawl Stars       17181659  100.0 M   \n",
       "4     5  Sniper 3D: Fun Free Online FPS Shooting Game       14237554  100.0 M   \n",
       "\n",
       "   average rating  growth (30 days)  growth (60 days)  price     category  \\\n",
       "0            4.33               2.9               7.9    0.0  GAME ACTION   \n",
       "1            4.24               2.0               3.1    0.0  GAME ACTION   \n",
       "2            4.08               1.6               3.3    0.0  GAME ACTION   \n",
       "3            4.27               4.1               6.6    0.0  GAME ACTION   \n",
       "4            4.33               0.8               1.8    0.0  GAME ACTION   \n",
       "\n",
       "   5 star ratings  4 star ratings  3 star ratings  2 star ratings  \\\n",
       "0        61935712         4478738         2795172         1814999   \n",
       "1        26670566         2109631         1352610          893674   \n",
       "2        17850942         1796761         1066095          725429   \n",
       "3        12493668         1474319          741410          383478   \n",
       "4         9657878         2124544         1034025          375159   \n",
       "\n",
       "   1 star ratings   paid  \n",
       "0         9654037  False  \n",
       "1         4945478  False  \n",
       "2         4397640  False  \n",
       "3         2088781  False  \n",
       "4         1045945  False  "
      ]
     },
     "execution_count": 4,
     "metadata": {},
     "output_type": "execute_result"
    }
   ],
   "source": [
    "df = pd.read_csv('../top-games-google-play-store/data/android-games.csv')\n",
    "df.head()"
   ]
  },
  {
   "cell_type": "code",
   "execution_count": 14,
   "id": "977bd323",
   "metadata": {},
   "outputs": [
    {
     "name": "stdout",
     "output_type": "stream",
     "text": [
      "<class 'pandas.core.frame.DataFrame'>\n",
      "RangeIndex: 1730 entries, 0 to 1729\n",
      "Data columns (total 15 columns):\n",
      " #   Column            Non-Null Count  Dtype  \n",
      "---  ------            --------------  -----  \n",
      " 0   rank              1730 non-null   int64  \n",
      " 1   title             1730 non-null   object \n",
      " 2   total ratings     1730 non-null   int64  \n",
      " 3   installs          1730 non-null   object \n",
      " 4   average rating    1730 non-null   float64\n",
      " 5   growth (30 days)  1730 non-null   float64\n",
      " 6   growth (60 days)  1730 non-null   float64\n",
      " 7   price             1730 non-null   float64\n",
      " 8   category          1730 non-null   object \n",
      " 9   5 star ratings    1730 non-null   int64  \n",
      " 10  4 star ratings    1730 non-null   int64  \n",
      " 11  3 star ratings    1730 non-null   int64  \n",
      " 12  2 star ratings    1730 non-null   int64  \n",
      " 13  1 star ratings    1730 non-null   int64  \n",
      " 14  paid              1730 non-null   bool   \n",
      "dtypes: bool(1), float64(4), int64(7), object(3)\n",
      "memory usage: 191.0+ KB\n"
     ]
    }
   ],
   "source": [
    "df.info()"
   ]
  },
  {
   "cell_type": "markdown",
   "id": "1a2c5c79",
   "metadata": {},
   "source": [
    "## Exploraty Data Analysis"
   ]
  },
  {
   "cell_type": "code",
   "execution_count": 60,
   "id": "df1540ee",
   "metadata": {
    "scrolled": false
   },
   "outputs": [
    {
     "data": {
      "image/png": "[encoded data removed]",
      "text/plain": [
       "<Figure size 432x288 with 1 Axes>"
      ]
     },
     "metadata": {
      "needs_background": "light"
     },
     "output_type": "display_data"
    }
   ],
   "source": [
    "df['paid'].value_counts().plot(kind='bar', title='Number of Free Games vs Paid Games');"
   ]
  },
  {
   "cell_type": "markdown",
   "id": "971bf4ce",
   "metadata": {},
   "source": [
    "There are only 7 paid games, meaning the vast majority of games are free"
   ]
  },
  {
   "cell_type": "markdown",
   "id": "caad48ee",
   "metadata": {},
   "source": [
    "Let's take a look at the average rating of free vs paid games"
   ]
  },
  {
   "cell_type": "code",
   "execution_count": 46,
   "id": "240af902",
   "metadata": {},
   "outputs": [],
   "source": [
    "rq3free=df[(df['paid']==False)]\n",
    "rq3paid=df[(df['paid']==True)]"
   ]
  },
  {
   "cell_type": "code",
   "execution_count": 47,
   "id": "f07331f6",
   "metadata": {},
   "outputs": [
    {
     "name": "stdout",
     "output_type": "stream",
     "text": [
      "The Average rating of free games are : 4.31\n",
      "The Average rating of paid games are : 4.57\n"
     ]
    }
   ],
   "source": [
    "freemean = rq3free['average rating'].mean()\n",
    "paidmean = rq3paid['average rating'].mean()\n",
    "print(\"The Average rating of free games are :\",round(freemean,2))\n",
    "print(\"The Average rating of paid games are :\",round(paidmean,2))"
   ]
  },
  {
   "cell_type": "code",
   "execution_count": 8,
   "id": "5a9553ff",
   "metadata": {
    "scrolled": false
   },
   "outputs": [
    {
     "data": {
      "text/plain": [
       "category\n",
       "GAME CARD            122\n",
       "GAME WORD            106\n",
       "GAME CASUAL          102\n",
       "GAME RACING          100\n",
       "GAME TRIVIA          100\n",
       "GAME STRATEGY        100\n",
       "GAME SPORTS          100\n",
       "GAME SIMULATION      100\n",
       "GAME ROLE PLAYING    100\n",
       "GAME ACTION          100\n",
       "GAME PUZZLE          100\n",
       "GAME ADVENTURE       100\n",
       "GAME EDUCATIONAL     100\n",
       "GAME CASINO          100\n",
       "GAME BOARD           100\n",
       "GAME ARCADE          100\n",
       "GAME MUSIC           100\n",
       "dtype: int64"
      ]
     },
     "execution_count": 8,
     "metadata": {},
     "output_type": "execute_result"
    }
   ],
   "source": [
    "df.value_counts('category')"
   ]
  },
  {
   "cell_type": "code",
   "execution_count": 20,
   "id": "29fe26b9",
   "metadata": {
    "scrolled": true
   },
   "outputs": [
    {
     "data": {
      "text/plain": [
       "rank                0\n",
       "title               0\n",
       "total ratings       0\n",
       "installs            0\n",
       "average rating      0\n",
       "growth (30 days)    0\n",
       "growth (60 days)    0\n",
       "price               0\n",
       "category            0\n",
       "5 star ratings      0\n",
       "4 star ratings      0\n",
       "3 star ratings      0\n",
       "2 star ratings      0\n",
       "1 star ratings      0\n",
       "paid                0\n",
       "dtype: int64"
      ]
     },
     "execution_count": 20,
     "metadata": {},
     "output_type": "execute_result"
    }
   ],
   "source": [
    "df.isnull().sum()"
   ]
  },
  {
   "cell_type": "code",
   "execution_count": 24,
   "id": "b2d90d40",
   "metadata": {},
   "outputs": [
    {
     "data": {
      "text/plain": [
       "10.0 M      795\n",
       "50.0 M      266\n",
       "5.0 M       248\n",
       "100.0 M     203\n",
       "1.0 M       191\n",
       "500.0 k      13\n",
       "500.0 M      10\n",
       "1000.0 M      2\n",
       "100.0 k       2\n",
       "Name: installs, dtype: int64"
      ]
     },
     "execution_count": 24,
     "metadata": {},
     "output_type": "execute_result"
    }
   ],
   "source": [
    "df.installs.value_counts()"
   ]
  },
  {
   "cell_type": "markdown",
   "id": "fea39593",
   "metadata": {},
   "source": [
    "Since the number of installs datatype is an object we must convert this to be an integer to continue our analysis"
   ]
  },
  {
   "cell_type": "code",
   "execution_count": 26,
   "id": "dca9fc3d",
   "metadata": {},
   "outputs": [],
   "source": [
    "number_of_downloads = {'100.0 k' : 100000, '500.0 k' : 500000, '1.0 M' : 1000000,\n",
    "                       '5.0 M' : 5000000, '10.0 M' :10000000, '50.0 M' : 50000000,\n",
    "                       '100.0 M': 100000000,'500.0 M': 500000000, '1000.0 M': 1000000000,}\n",
    "df['number_of_downloads'] = df['installs'].map(number_of_downloads)"
   ]
  },
  {
   "cell_type": "code",
   "execution_count": 27,
   "id": "7020fe0b",
   "metadata": {},
   "outputs": [
    {
     "data": {
      "text/html": [
       "<div>\n",
       "<style scoped>\n",
       "    .dataframe tbody tr th:only-of-type {\n",
       "        vertical-align: middle;\n",
       "    }\n",
       "\n",
       "    .dataframe tbody tr th {\n",
       "        vertical-align: top;\n",
       "    }\n",
       "\n",
       "    .dataframe thead th {\n",
       "        text-align: right;\n",
       "    }\n",
       "</style>\n",
       "<table border=\"1\" class=\"dataframe\">\n",
       "  <thead>\n",
       "    <tr style=\"text-align: right;\">\n",
       "      <th></th>\n",
       "      <th>rank</th>\n",
       "      <th>title</th>\n",
       "      <th>total ratings</th>\n",
       "      <th>installs</th>\n",
       "      <th>average rating</th>\n",
       "      <th>growth (30 days)</th>\n",
       "      <th>growth (60 days)</th>\n",
       "      <th>price</th>\n",
       "      <th>category</th>\n",
       "      <th>5 star ratings</th>\n",
       "      <th>4 star ratings</th>\n",
       "      <th>3 star ratings</th>\n",
       "      <th>2 star ratings</th>\n",
       "      <th>1 star ratings</th>\n",
       "      <th>paid</th>\n",
       "      <th>number_of_downloads</th>\n",
       "    </tr>\n",
       "  </thead>\n",
       "  <tbody>\n",
       "    <tr>\n",
       "      <th>0</th>\n",
       "      <td>1</td>\n",
       "      <td>Garena Free Fire - The Cobra</td>\n",
       "      <td>80678661</td>\n",
       "      <td>500.0 M</td>\n",
       "      <td>4.33</td>\n",
       "      <td>2.9</td>\n",
       "      <td>7.9</td>\n",
       "      <td>0.0</td>\n",
       "      <td>GAME ACTION</td>\n",
       "      <td>61935712</td>\n",
       "      <td>4478738</td>\n",
       "      <td>2795172</td>\n",
       "      <td>1814999</td>\n",
       "      <td>9654037</td>\n",
       "      <td>False</td>\n",
       "      <td>500000000</td>\n",
       "    </tr>\n",
       "    <tr>\n",
       "      <th>1</th>\n",
       "      <td>2</td>\n",
       "      <td>PUBG MOBILE: Graffiti Prank</td>\n",
       "      <td>35971961</td>\n",
       "      <td>100.0 M</td>\n",
       "      <td>4.24</td>\n",
       "      <td>2.0</td>\n",
       "      <td>3.1</td>\n",
       "      <td>0.0</td>\n",
       "      <td>GAME ACTION</td>\n",
       "      <td>26670566</td>\n",
       "      <td>2109631</td>\n",
       "      <td>1352610</td>\n",
       "      <td>893674</td>\n",
       "      <td>4945478</td>\n",
       "      <td>False</td>\n",
       "      <td>100000000</td>\n",
       "    </tr>\n",
       "    <tr>\n",
       "      <th>2</th>\n",
       "      <td>3</td>\n",
       "      <td>Mobile Legends: Bang Bang</td>\n",
       "      <td>25836869</td>\n",
       "      <td>100.0 M</td>\n",
       "      <td>4.08</td>\n",
       "      <td>1.6</td>\n",
       "      <td>3.3</td>\n",
       "      <td>0.0</td>\n",
       "      <td>GAME ACTION</td>\n",
       "      <td>17850942</td>\n",
       "      <td>1796761</td>\n",
       "      <td>1066095</td>\n",
       "      <td>725429</td>\n",
       "      <td>4397640</td>\n",
       "      <td>False</td>\n",
       "      <td>100000000</td>\n",
       "    </tr>\n",
       "    <tr>\n",
       "      <th>3</th>\n",
       "      <td>4</td>\n",
       "      <td>Brawl Stars</td>\n",
       "      <td>17181659</td>\n",
       "      <td>100.0 M</td>\n",
       "      <td>4.27</td>\n",
       "      <td>4.1</td>\n",
       "      <td>6.6</td>\n",
       "      <td>0.0</td>\n",
       "      <td>GAME ACTION</td>\n",
       "      <td>12493668</td>\n",
       "      <td>1474319</td>\n",
       "      <td>741410</td>\n",
       "      <td>383478</td>\n",
       "      <td>2088781</td>\n",
       "      <td>False</td>\n",
       "      <td>100000000</td>\n",
       "    </tr>\n",
       "    <tr>\n",
       "      <th>4</th>\n",
       "      <td>5</td>\n",
       "      <td>Sniper 3D: Fun Free Online FPS Shooting Game</td>\n",
       "      <td>14237554</td>\n",
       "      <td>100.0 M</td>\n",
       "      <td>4.33</td>\n",
       "      <td>0.8</td>\n",
       "      <td>1.8</td>\n",
       "      <td>0.0</td>\n",
       "      <td>GAME ACTION</td>\n",
       "      <td>9657878</td>\n",
       "      <td>2124544</td>\n",
       "      <td>1034025</td>\n",
       "      <td>375159</td>\n",
       "      <td>1045945</td>\n",
       "      <td>False</td>\n",
       "      <td>100000000</td>\n",
       "    </tr>\n",
       "  </tbody>\n",
       "</table>\n",
       "</div>"
      ],
      "text/plain": [
       "   rank                                         title  total ratings installs  \\\n",
       "0     1                  Garena Free Fire - The Cobra       80678661  500.0 M   \n",
       "1     2                   PUBG MOBILE: Graffiti Prank       35971961  100.0 M   \n",
       "2     3                     Mobile Legends: Bang Bang       25836869  100.0 M   \n",
       "3     4                                   Brawl Stars       17181659  100.0 M   \n",
       "4     5  Sniper 3D: Fun Free Online FPS Shooting Game       14237554  100.0 M   \n",
       "\n",
       "   average rating  growth (30 days)  growth (60 days)  price     category  \\\n",
       "0            4.33               2.9               7.9    0.0  GAME ACTION   \n",
       "1            4.24               2.0               3.1    0.0  GAME ACTION   \n",
       "2            4.08               1.6               3.3    0.0  GAME ACTION   \n",
       "3            4.27               4.1               6.6    0.0  GAME ACTION   \n",
       "4            4.33               0.8               1.8    0.0  GAME ACTION   \n",
       "\n",
       "   5 star ratings  4 star ratings  3 star ratings  2 star ratings  \\\n",
       "0        61935712         4478738         2795172         1814999   \n",
       "1        26670566         2109631         1352610          893674   \n",
       "2        17850942         1796761         1066095          725429   \n",
       "3        12493668         1474319          741410          383478   \n",
       "4         9657878         2124544         1034025          375159   \n",
       "\n",
       "   1 star ratings   paid  number_of_downloads  \n",
       "0         9654037  False            500000000  \n",
       "1         4945478  False            100000000  \n",
       "2         4397640  False            100000000  \n",
       "3         2088781  False            100000000  \n",
       "4         1045945  False            100000000  "
      ]
     },
     "execution_count": 27,
     "metadata": {},
     "output_type": "execute_result"
    }
   ],
   "source": [
    "df.head()"
   ]
  },
  {
   "cell_type": "markdown",
   "id": "7285c650",
   "metadata": {},
   "source": [
    "Now that we have the number of downloads in integer format we can start to manipulate that data"
   ]
  },
  {
   "cell_type": "code",
   "execution_count": 28,
   "id": "1f4988d4",
   "metadata": {},
   "outputs": [],
   "source": [
    "rq1=df.groupby(by='category')['number_of_downloads'].sum()"
   ]
  },
  {
   "cell_type": "code",
   "execution_count": 29,
   "id": "40e4a267",
   "metadata": {
    "scrolled": true
   },
   "outputs": [
    {
     "data": {
      "text/plain": [
       "category\n",
       "GAME ACTION          6650000000\n",
       "GAME ADVENTURE       1888000000\n",
       "GAME ARCADE          6931000000\n",
       "GAME BOARD           2038000000\n",
       "GAME CARD            1401000000\n",
       "GAME CASINO           788500000\n",
       "GAME CASUAL          6847000000\n",
       "GAME EDUCATIONAL     1595500000\n",
       "GAME MUSIC           1285600000\n",
       "GAME PUZZLE          3631000000\n",
       "GAME RACING          4640000000\n",
       "GAME ROLE PLAYING    1449000000\n",
       "GAME SIMULATION      2871000000\n",
       "GAME SPORTS          3491000000\n",
       "GAME STRATEGY        2392000000\n",
       "GAME TRIVIA           704100000\n",
       "GAME WORD            1385000000\n",
       "Name: number_of_downloads, dtype: int64"
      ]
     },
     "execution_count": 29,
     "metadata": {},
     "output_type": "execute_result"
    }
   ],
   "source": [
    "rq1"
   ]
  },
  {
   "cell_type": "markdown",
   "id": "479ae6ac",
   "metadata": {},
   "source": [
    "Now let's sort this list by the number of downloads"
   ]
  },
  {
   "cell_type": "code",
   "execution_count": 30,
   "id": "fd97c66c",
   "metadata": {},
   "outputs": [],
   "source": [
    "rq1 = rq1.reset_index()\n",
    "rq1 = rq1.sort_values(by= 'number_of_downloads')"
   ]
  },
  {
   "cell_type": "code",
   "execution_count": 31,
   "id": "1d20b15e",
   "metadata": {},
   "outputs": [
    {
     "data": {
      "text/html": [
       "<div>\n",
       "<style scoped>\n",
       "    .dataframe tbody tr th:only-of-type {\n",
       "        vertical-align: middle;\n",
       "    }\n",
       "\n",
       "    .dataframe tbody tr th {\n",
       "        vertical-align: top;\n",
       "    }\n",
       "\n",
       "    .dataframe thead th {\n",
       "        text-align: right;\n",
       "    }\n",
       "</style>\n",
       "<table border=\"1\" class=\"dataframe\">\n",
       "  <thead>\n",
       "    <tr style=\"text-align: right;\">\n",
       "      <th></th>\n",
       "      <th>category</th>\n",
       "      <th>number_of_downloads</th>\n",
       "    </tr>\n",
       "  </thead>\n",
       "  <tbody>\n",
       "    <tr>\n",
       "      <th>15</th>\n",
       "      <td>GAME TRIVIA</td>\n",
       "      <td>704100000</td>\n",
       "    </tr>\n",
       "    <tr>\n",
       "      <th>5</th>\n",
       "      <td>GAME CASINO</td>\n",
       "      <td>788500000</td>\n",
       "    </tr>\n",
       "    <tr>\n",
       "      <th>8</th>\n",
       "      <td>GAME MUSIC</td>\n",
       "      <td>1285600000</td>\n",
       "    </tr>\n",
       "    <tr>\n",
       "      <th>16</th>\n",
       "      <td>GAME WORD</td>\n",
       "      <td>1385000000</td>\n",
       "    </tr>\n",
       "    <tr>\n",
       "      <th>4</th>\n",
       "      <td>GAME CARD</td>\n",
       "      <td>1401000000</td>\n",
       "    </tr>\n",
       "    <tr>\n",
       "      <th>11</th>\n",
       "      <td>GAME ROLE PLAYING</td>\n",
       "      <td>1449000000</td>\n",
       "    </tr>\n",
       "    <tr>\n",
       "      <th>7</th>\n",
       "      <td>GAME EDUCATIONAL</td>\n",
       "      <td>1595500000</td>\n",
       "    </tr>\n",
       "    <tr>\n",
       "      <th>1</th>\n",
       "      <td>GAME ADVENTURE</td>\n",
       "      <td>1888000000</td>\n",
       "    </tr>\n",
       "    <tr>\n",
       "      <th>3</th>\n",
       "      <td>GAME BOARD</td>\n",
       "      <td>2038000000</td>\n",
       "    </tr>\n",
       "    <tr>\n",
       "      <th>14</th>\n",
       "      <td>GAME STRATEGY</td>\n",
       "      <td>2392000000</td>\n",
       "    </tr>\n",
       "    <tr>\n",
       "      <th>12</th>\n",
       "      <td>GAME SIMULATION</td>\n",
       "      <td>2871000000</td>\n",
       "    </tr>\n",
       "    <tr>\n",
       "      <th>13</th>\n",
       "      <td>GAME SPORTS</td>\n",
       "      <td>3491000000</td>\n",
       "    </tr>\n",
       "    <tr>\n",
       "      <th>9</th>\n",
       "      <td>GAME PUZZLE</td>\n",
       "      <td>3631000000</td>\n",
       "    </tr>\n",
       "    <tr>\n",
       "      <th>10</th>\n",
       "      <td>GAME RACING</td>\n",
       "      <td>4640000000</td>\n",
       "    </tr>\n",
       "    <tr>\n",
       "      <th>0</th>\n",
       "      <td>GAME ACTION</td>\n",
       "      <td>6650000000</td>\n",
       "    </tr>\n",
       "    <tr>\n",
       "      <th>6</th>\n",
       "      <td>GAME CASUAL</td>\n",
       "      <td>6847000000</td>\n",
       "    </tr>\n",
       "    <tr>\n",
       "      <th>2</th>\n",
       "      <td>GAME ARCADE</td>\n",
       "      <td>6931000000</td>\n",
       "    </tr>\n",
       "  </tbody>\n",
       "</table>\n",
       "</div>"
      ],
      "text/plain": [
       "             category  number_of_downloads\n",
       "15        GAME TRIVIA            704100000\n",
       "5         GAME CASINO            788500000\n",
       "8          GAME MUSIC           1285600000\n",
       "16          GAME WORD           1385000000\n",
       "4           GAME CARD           1401000000\n",
       "11  GAME ROLE PLAYING           1449000000\n",
       "7    GAME EDUCATIONAL           1595500000\n",
       "1      GAME ADVENTURE           1888000000\n",
       "3          GAME BOARD           2038000000\n",
       "14      GAME STRATEGY           2392000000\n",
       "12    GAME SIMULATION           2871000000\n",
       "13        GAME SPORTS           3491000000\n",
       "9         GAME PUZZLE           3631000000\n",
       "10        GAME RACING           4640000000\n",
       "0         GAME ACTION           6650000000\n",
       "6         GAME CASUAL           6847000000\n",
       "2         GAME ARCADE           6931000000"
      ]
     },
     "execution_count": 31,
     "metadata": {},
     "output_type": "execute_result"
    }
   ],
   "source": [
    "rq1"
   ]
  },
  {
   "cell_type": "code",
   "execution_count": 57,
   "id": "49d6c7a1",
   "metadata": {
    "scrolled": false
   },
   "outputs": [
    {
     "data": {
      "image/png": "[encoded data removed]",
      "text/plain": [
       "<Figure size 432x288 with 1 Axes>"
      ]
     },
     "metadata": {
      "needs_background": "light"
     },
     "output_type": "display_data"
    }
   ],
   "source": [
    "sns.barplot(y='category', x='number_of_downloads', data=rq1);"
   ]
  },
  {
   "cell_type": "markdown",
   "id": "f5af3ea3",
   "metadata": {},
   "source": [
    "From the graph above we can clearly see that Action, Casual, and Arcade games are the three most downloaded types of games, while Trivia and Casino types are the least downloaded."
   ]
  },
  {
   "cell_type": "markdown",
   "id": "cf729df7",
   "metadata": {},
   "source": [
    "Let us sort the dataset on the basis of its average ratings and the number of downloads"
   ]
  },
  {
   "cell_type": "code",
   "execution_count": 35,
   "id": "cf03e70b",
   "metadata": {},
   "outputs": [],
   "source": [
    "rq2 = df.sort_values(by= ['number_of_downloads', 'average rating'], ascending = False).head(200)"
   ]
  },
  {
   "cell_type": "markdown",
   "id": "1904852d",
   "metadata": {},
   "source": [
    "After the above step we group our data according to each category, and get the count of reviews and again sort them by the number of downloads"
   ]
  },
  {
   "cell_type": "code",
   "execution_count": 36,
   "id": "84618a61",
   "metadata": {},
   "outputs": [],
   "source": [
    "rq2=rq2.groupby(by='category')['number_of_downloads'].count().reset_index().sort_values(by='number_of_downloads', ascending=False)"
   ]
  },
  {
   "cell_type": "markdown",
   "id": "d2f1d7bd",
   "metadata": {},
   "source": [
    "Now let's plot this information.."
   ]
  },
  {
   "cell_type": "code",
   "execution_count": 42,
   "id": "e2bc49de",
   "metadata": {},
   "outputs": [
    {
     "data": {
      "image/png": "[encoded data removed]",
      "text/plain": [
       "<Figure size 432x288 with 1 Axes>"
      ]
     },
     "metadata": {
      "needs_background": "light"
     },
     "output_type": "display_data"
    }
   ],
   "source": [
    "rq2 = df.sort_values(by = ['number_of_downloads','average rating'], ascending=False).head(200)\n",
    "rq2=rq2.groupby(by = 'category')['number_of_downloads'].count().reset_index().sort_values(by = 'number_of_downloads', ascending=False)\n",
    "plt.scatter(rq2['number_of_downloads'], rq2['category'])\n",
    "plt.plot(rq2['number_of_downloads'], rq2['category']);"
   ]
  },
  {
   "cell_type": "markdown",
   "id": "a5005617",
   "metadata": {},
   "source": [
    "As we can see our result is not the same as it was before, now the most downloaded game belongs to the action category."
   ]
  },
  {
   "cell_type": "markdown",
   "id": "7f2b4480",
   "metadata": {},
   "source": [
    "Let's explore which games had the most growth over the first 30 days, then over the first 60 days"
   ]
  },
  {
   "cell_type": "code",
   "execution_count": 48,
   "id": "57b12007",
   "metadata": {},
   "outputs": [],
   "source": [
    "rq430days = df.groupby(by = 'category')['growth (30 days)'].mean()\n",
    "rq460days = df.groupby(by = 'category')['growth (60 days)'].mean()"
   ]
  },
  {
   "cell_type": "code",
   "execution_count": 54,
   "id": "b1100b24",
   "metadata": {},
   "outputs": [
    {
     "data": {
      "image/png": "[encoded data removed]",
      "text/plain": [
       "<Figure size 432x288 with 1 Axes>"
      ]
     },
     "metadata": {
      "needs_background": "light"
     },
     "output_type": "display_data"
    }
   ],
   "source": [
    "rq4 = df.sort_values(by = 'growth (30 days)', ascending=False).head(200)\n",
    "rq4=rq4.groupby(by = 'category')['growth (30 days)'].sum().reset_index().sort_values(by = 'growth (30 days)', ascending=False)\n",
    "plt.scatter(rq4['growth (30 days)'], rq4['category'])\n",
    "plt.plot(rq4['growth (30 days)'], rq4['category']);"
   ]
  },
  {
   "cell_type": "code",
   "execution_count": 55,
   "id": "328e388d",
   "metadata": {},
   "outputs": [
    {
     "data": {
      "image/png": "[encoded data removed]",
      "text/plain": [
       "<Figure size 432x288 with 1 Axes>"
      ]
     },
     "metadata": {
      "needs_background": "light"
     },
     "output_type": "display_data"
    }
   ],
   "source": [
    "rq4 = df.sort_values(by = 'growth (60 days)', ascending=False).head(200)\n",
    "rq4=rq4.groupby(by = 'category')['growth (60 days)'].sum().reset_index().sort_values(by = 'growth (60 days)', ascending=False)\n",
    "plt.scatter(rq4['growth (60 days)'], rq4['category'])\n",
    "plt.plot(rq4['growth (60 days)'], rq4['category']);"
   ]
  },
  {
   "cell_type": "markdown",
   "id": "6a302867",
   "metadata": {},
   "source": [
    "From the two graphs above we can see that Word and Action games had very high growth from the first 30 days, but were towards the middle or bottom of the rankings for growth during the first 60 day period. Educational games rank towards the top for the first 30 days and then show the most growth during the first 60 day period."
   ]
  },
  {
   "cell_type": "markdown",
   "id": "eb188571",
   "metadata": {},
   "source": [
    "Now let's find out which of the game types have the most negative reviews"
   ]
  },
  {
   "cell_type": "code",
   "execution_count": 56,
   "id": "e5234eeb",
   "metadata": {},
   "outputs": [
    {
     "data": {
      "image/png": "[encoded data removed]",
      "text/plain": [
       "<Figure size 432x288 with 1 Axes>"
      ]
     },
     "metadata": {
      "needs_background": "light"
     },
     "output_type": "display_data"
    }
   ],
   "source": [
    "df['negative reviews'] = df['1 star ratings'] + df['2 star ratings']\n",
    "rq5 = df.groupby(by='category')['negative reviews'].sum()\n",
    "rq5 = rq5.reset_index()\n",
    "rq5 = rq5.sort_values(by='negative reviews')\n",
    "sns.barplot(y='category', x='negative reviews', data=rq5);"
   ]
  },
  {
   "cell_type": "markdown",
   "id": "0bd0a921",
   "metadata": {},
   "source": [
    "From this information we find that action games have the most amount of negative reviews, with casual, arcade, and strategy games right behind it. If we recall the top 3 most downloaded game types were arcade, casual, and action. This could mean that the games that typically have more downloads have a better chance to have negative reviews as compared to other game types."
   ]
  },
  {
   "cell_type": "markdown",
   "id": "d191a90f",
   "metadata": {},
   "source": [
    "Let's see if there is a correlation to the average rating of a game and the first 30 days of growth."
   ]
  },
  {
   "cell_type": "code",
   "execution_count": 62,
   "id": "a155dac3",
   "metadata": {},
   "outputs": [
    {
     "name": "stdout",
     "output_type": "stream",
     "text": [
      "-0.0029918367148512553\n"
     ]
    }
   ],
   "source": [
    "columnA=df['average rating']\n",
    "columnB=df['growth (30 days)']\n",
    "correlation = columnA.corr(columnB)\n",
    "print(correlation)"
   ]
  },
  {
   "cell_type": "markdown",
   "id": "3937f56f",
   "metadata": {},
   "source": [
    "With a negative number we can determine there is a negative correlation to the number of downloads within the first 30 days. This means that the average rating goes down within the first 30 days. Let's see if this correlation changes for the first 60 days."
   ]
  },
  {
   "cell_type": "code",
   "execution_count": 63,
   "id": "a1f4facd",
   "metadata": {},
   "outputs": [
    {
     "name": "stdout",
     "output_type": "stream",
     "text": [
      "0.0388397233095088\n"
     ]
    }
   ],
   "source": [
    "columnA=df['average rating']\n",
    "columnB=df['growth (60 days)']\n",
    "correlation = columnA.corr(columnB)\n",
    "print(correlation)"
   ]
  },
  {
   "cell_type": "markdown",
   "id": "dcb0155d",
   "metadata": {},
   "source": [
    "After 60 days we see there is a positive correlation between the average rating and the number of game downloads. This means the average rating goes up within the first 60 days for a game."
   ]
  },
  {
   "cell_type": "code",
   "execution_count": null,
   "id": "60315b44",
   "metadata": {},
   "outputs": [],
   "source": []
  }
 ],
 "metadata": {
  "kernelspec": {
   "display_name": "Python 3",
   "language": "python",
   "name": "python3"
  },
  "language_info": {
   "codemirror_mode": {
    "name": "ipython",
    "version": 3
   },
   "file_extension": ".py",
   "mimetype": "text/x-python",
   "name": "python",
   "nbconvert_exporter": "python",
   "pygments_lexer": "ipython3",
   "version": "3.9.4"
  }
 },
 "nbformat": 4,
 "nbformat_minor": 5
}
